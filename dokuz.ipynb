{
 "cells": [
  {
   "cell_type": "code",
   "execution_count": 1,
   "id": "1077bec5-b222-4e12-b667-f5fc1808b7ab",
   "metadata": {},
   "outputs": [],
   "source": [
    "import numpy as np\n",
    "import pandas as pd\n",
    "from sklearn.svm import SVR\n",
    "from sklearn.model_selection import GridSearchCV, train_test_split\n",
    "from sklearn.metrics import r2_score, mean_squared_error"
   ]
  },
  {
   "cell_type": "code",
   "execution_count": 2,
   "id": "dfa38df5-a754-455b-b5fb-112130c1dd47",
   "metadata": {},
   "outputs": [],
   "source": [
    "# Doğrusal olmayan bir veri seti oluşturalım.\n",
    "np.random.seed(123)\n",
    "\n",
    "X = np.random.rand(1000, 5)\n",
    "y = X[:,0]**2 + np.sin(X[:,1]) + X[:,2]*np.exp(X[:,3]) + np.random.normal(0, 0.1, size=1000)"
   ]
  },
  {
   "cell_type": "code",
   "execution_count": 3,
   "id": "555db092-31b7-498a-89a2-1efa105339a6",
   "metadata": {},
   "outputs": [],
   "source": [
    "# eğitim ve test setlerini ayıralım.\n",
    "X_train, X_test, y_train, y_test = train_test_split(X, y, test_size=0.2, random_state=42)"
   ]
  },
  {
   "cell_type": "code",
   "execution_count": 4,
   "id": "1a7916ae-0eba-41cc-9388-b97530ec7ab9",
   "metadata": {},
   "outputs": [],
   "source": [
    "# Model işlemleri\n",
    "model = SVR().fit(X_train, y_train)"
   ]
  },
  {
   "cell_type": "code",
   "execution_count": 9,
   "id": "69426b40-8c20-444d-8bbe-de96c4ca8a37",
   "metadata": {},
   "outputs": [
    {
     "name": "stdout",
     "output_type": "stream",
     "text": [
      "Best Estimator:  SVR(C=100, gamma=0.1)\n",
      "Best Parameters:  {'C': 100, 'gamma': 0.1, 'kernel': 'rbf'}\n",
      "Best Score:  0.9782171627693093\n"
     ]
    }
   ],
   "source": [
    "# Model tuning işlemi yapalım.\n",
    "params = {\n",
    "    'C': [0.1, 1, 10, 100],\n",
    "    'gamma': [0.001, 0.01, 0.1, 1],\n",
    "    'kernel': ['linear', 'poly', 'rbf']\n",
    "}\n",
    "\n",
    "grid = GridSearchCV(estimator=model, param_grid=params, cv=5)\n",
    "grid.fit(X_train, y_train)\n",
    "\n",
    "print('Best Estimator: ', grid.best_estimator_)\n",
    "print('Best Parameters: ', grid.best_params_)\n",
    "print('Best Score: ', grid.best_score_)"
   ]
  },
  {
   "cell_type": "code",
   "execution_count": 11,
   "id": "03ccea08-f64f-49cd-a891-a853dc7d5b8d",
   "metadata": {},
   "outputs": [
    {
     "name": "stdout",
     "output_type": "stream",
     "text": [
      "random_state=0 için R-Kare Değeri: 0.9752748133183256\n",
      "random_state=10 için R-Kare Değeri: 0.9765282515024389\n",
      "random_state=20 için R-Kare Değeri: 0.973669534253551\n",
      "random_state=42 için R-Kare Değeri: 0.9768931228697193\n",
      "random_state=60 için R-Kare Değeri: 0.9776226959337696\n",
      "random_state=80 için R-Kare Değeri: 0.9820716184528785\n",
      "random_state=100 için R-Kare Değeri: 0.9823764562797613\n"
     ]
    }
   ],
   "source": [
    "# en iyi random_state değerini bulalım.\n",
    "random_states = [0, 10, 20, 42, 60, 80, 100]\n",
    "\n",
    "for element in random_states:\n",
    "    X_train, X_test, y_train, y_test = train_test_split(X, y, test_size=0.2, random_state=element)\n",
    "    model = SVR(C=100, gamma=0.1, kernel='rbf').fit(X_train, y_train)\n",
    "    y_pred = model.predict(X_test)\n",
    "    r2 = r2_score(y_test, y_pred)\n",
    "    print(f'random_state={element} için R-Kare Değeri: {r2}')"
   ]
  },
  {
   "cell_type": "markdown",
   "id": "4b04f358-1a7a-4310-b7b4-25e04066c622",
   "metadata": {},
   "source": [
    "### En iyi değerler için modelimizi kuralım."
   ]
  },
  {
   "cell_type": "code",
   "execution_count": 12,
   "id": "d31c3ef5-1538-44d0-82b0-d7c252a86bf8",
   "metadata": {},
   "outputs": [
    {
     "name": "stdout",
     "output_type": "stream",
     "text": [
      "R-Kare Değeri:  0.9823764562797613\n"
     ]
    }
   ],
   "source": [
    "X_train, X_test, y_train, y_test = train_test_split(X, y, test_size=0.2, random_state=100)\n",
    "model = SVR(C=100, gamma=0.1, kernel='rbf').fit(X_train, y_train)\n",
    "y_pred = model.predict(X_test)\n",
    "r2 = r2_score(y_test, y_pred)\n",
    "print('R-Kare Değeri: ', r2)"
   ]
  }
 ],
 "metadata": {
  "kernelspec": {
   "display_name": "Python 3 (ipykernel)",
   "language": "python",
   "name": "python3"
  },
  "language_info": {
   "codemirror_mode": {
    "name": "ipython",
    "version": 3
   },
   "file_extension": ".py",
   "mimetype": "text/x-python",
   "name": "python",
   "nbconvert_exporter": "python",
   "pygments_lexer": "ipython3",
   "version": "3.9.12"
  }
 },
 "nbformat": 4,
 "nbformat_minor": 5
}
